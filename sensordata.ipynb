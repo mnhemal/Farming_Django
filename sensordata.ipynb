{
  "cells": [
    {
      "cell_type": "code",
      "execution_count": 1,
      "metadata": {
        "id": "35FRTkj_BdWZ"
      },
      "outputs": [
        {
          "name": "stdout",
          "output_type": "stream",
          "text": [
            "Requirement already satisfied: mysql-connector in c:\\users\\faishal ahmed\\anaconda3\\lib\\site-packages (2.2.9)\n",
            "Note: you may need to restart the kernel to use updated packages.\n"
          ]
        }
      ],
      "source": [
        "pip install mysql-connector\n"
      ]
    },
    {
      "cell_type": "code",
      "execution_count": 2,
      "metadata": {
        "colab": {
          "base_uri": "https://localhost:8080/",
          "height": 1000
        },
        "id": "0Dj8qtJj4dz5",
        "outputId": "4c7265d9-1342-4b5d-ae51-0d737ca50753"
      },
      "outputs": [
        {
          "name": "stdout",
          "output_type": "stream",
          "text": [
            "2023-09-25 01:11:09 4 17 27\n",
            "2023-09-25 01:11:19 12 28 61\n",
            "2023-09-25 01:11:29 12 68 46\n",
            "2023-09-25 01:11:39 8 7 13\n",
            "2023-09-25 01:11:49 5 23 44\n",
            "2023-09-25 01:11:59 14 40 98\n",
            "2023-09-25 01:12:09 13 61 17\n",
            "2023-09-25 01:12:19 2 70 29\n",
            "2023-09-25 01:12:29 12 32 21\n",
            "2023-09-25 01:12:39 14 77 8\n",
            "2023-09-25 01:12:49 4 31 72\n",
            "2023-09-25 01:12:59 13 56 6\n",
            "2023-09-25 01:13:09 7 13 58\n",
            "2023-09-25 01:13:19 6 8 73\n",
            "2023-09-25 01:13:29 12 30 21\n",
            "2023-09-25 01:13:39 11 26 89\n",
            "2023-09-25 01:13:49 14 44 85\n",
            "2023-09-25 01:13:59 9 84 83\n",
            "2023-09-25 01:14:09 12 21 6\n",
            "2023-09-25 01:14:19 13 30 67\n",
            "2023-09-25 01:14:29 13 76 16\n",
            "2023-09-25 01:14:39 1 11 26\n",
            "2023-09-25 01:14:49 2 87 4\n",
            "2023-09-25 01:14:59 11 21 50\n",
            "2023-09-25 01:15:09 1 46 7\n"
          ]
        },
        {
          "ename": "KeyboardInterrupt",
          "evalue": "",
          "output_type": "error",
          "traceback": [
            "\u001b[1;31m---------------------------------------------------------------------------\u001b[0m",
            "\u001b[1;31mKeyboardInterrupt\u001b[0m                         Traceback (most recent call last)",
            "\u001b[1;32m~\\AppData\\Local\\Temp\\ipykernel_9168\\2513317318.py\u001b[0m in \u001b[0;36m<module>\u001b[1;34m\u001b[0m\n\u001b[0;32m     22\u001b[0m                    (timestamp, pH, turbidity, dissolved_oxygen,pH, turbidity, dissolved_oxygen,timestamp,farm_id,timestamp))\n\u001b[0;32m     23\u001b[0m     \u001b[0mconn\u001b[0m\u001b[1;33m.\u001b[0m\u001b[0mcommit\u001b[0m\u001b[1;33m(\u001b[0m\u001b[1;33m)\u001b[0m\u001b[1;33m\u001b[0m\u001b[1;33m\u001b[0m\u001b[0m\n\u001b[1;32m---> 24\u001b[1;33m     \u001b[0mtime\u001b[0m\u001b[1;33m.\u001b[0m\u001b[0msleep\u001b[0m\u001b[1;33m(\u001b[0m\u001b[1;36m10\u001b[0m\u001b[1;33m)\u001b[0m\u001b[1;33m\u001b[0m\u001b[1;33m\u001b[0m\u001b[0m\n\u001b[0m",
            "\u001b[1;31mKeyboardInterrupt\u001b[0m: "
          ]
        }
      ],
      "source": [
        "import json\n",
        "import mysql.connector\n",
        "from datetime import datetime\n",
        "import random\n",
        "import time\n",
        "\n",
        "conn = mysql.connector.connect(\n",
        "    host=\"127.0.0.1\",\n",
        "    user=\"root\",\n",
        "    password=\"\",\n",
        "    database=\"farm_db\"\n",
        ")\n",
        "cursor = conn.cursor()\n",
        "farm_id = 1\n",
        "while True :\n",
        "    timestamp = datetime.now().strftime('%Y-%m-%d %H:%M:%S')\n",
        "    pH = random.randint(1, 14)\n",
        "    turbidity = random.randint(1, 100)\n",
        "    dissolved_oxygen =  random.randint(1, 100)\n",
        "    print(timestamp, pH, turbidity, dissolved_oxygen)\n",
        "    cursor.execute('INSERT INTO sensor_portal_sensor (timestamp, temperature, humidity, soil_moisture,light_intensity,rainfall,wind_speed,created_at,farm_id,updated_at) VALUES (%s, %s, %s, %s,%s, %s, %s, %s,%s,%s)',\n",
        "                   (timestamp, pH, turbidity, dissolved_oxygen,pH, turbidity, dissolved_oxygen,timestamp,farm_id,timestamp))\n",
        "    conn.commit()\n",
        "    time.sleep(10)"
      ]
    }
  ],
  "metadata": {
    "colab": {
      "provenance": []
    },
    "kernelspec": {
      "display_name": "Python 3",
      "name": "python3"
    },
    "language_info": {
      "codemirror_mode": {
        "name": "ipython",
        "version": 3
      },
      "file_extension": ".py",
      "mimetype": "text/x-python",
      "name": "python",
      "nbconvert_exporter": "python",
      "pygments_lexer": "ipython3",
      "version": "3.9.13"
    }
  },
  "nbformat": 4,
  "nbformat_minor": 0
}
